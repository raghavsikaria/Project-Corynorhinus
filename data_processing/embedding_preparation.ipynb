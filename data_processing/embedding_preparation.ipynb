{
 "cells": [
  {
   "cell_type": "markdown",
   "id": "c0f10f1f-329b-4263-8ae9-f625e1776456",
   "metadata": {},
   "source": [
    "### Imports"
   ]
  },
  {
   "cell_type": "code",
   "execution_count": 1,
   "id": "276e73e1-86e0-4b24-b8a2-eff2d3969c9a",
   "metadata": {},
   "outputs": [
    {
     "name": "stderr",
     "output_type": "stream",
     "text": [
      "/Users/raghavsikaria/Sangharsh/CSRP2/env/lib/python3.10/site-packages/tqdm/auto.py:22: TqdmWarning: IProgress not found. Please update jupyter and ipywidgets. See https://ipywidgets.readthedocs.io/en/stable/user_install.html\n",
      "  from .autonotebook import tqdm as notebook_tqdm\n"
     ]
    }
   ],
   "source": [
    "from sentence_transformers import SentenceTransformer\n",
    "import json\n",
    "import numpy as np\n",
    "import csv\n",
    "import pickle"
   ]
  },
  {
   "cell_type": "markdown",
   "id": "9c3a538d-8c4a-4417-a32d-3c8db0bb9552",
   "metadata": {},
   "source": [
    "### Downloading Sentence Transformer Model"
   ]
  },
  {
   "cell_type": "code",
   "execution_count": 2,
   "id": "5f4bab21-1271-4c70-837a-f62bd8c5b7c2",
   "metadata": {},
   "outputs": [],
   "source": [
    "model = SentenceTransformer('all-MiniLM-L6-v2')"
   ]
  },
  {
   "cell_type": "markdown",
   "id": "84d2d76f-e7bd-4750-87d9-a83736bb9beb",
   "metadata": {},
   "source": [
    "### Reading Tweet Dataset"
   ]
  },
  {
   "cell_type": "code",
   "execution_count": 3,
   "id": "6a9ec37b-7c6d-4783-9e95-6aa47af79575",
   "metadata": {},
   "outputs": [],
   "source": [
    "all_tweets = []\n",
    "with open('data_1/trumptweets1205_127.csv') as csv_file:\n",
    "    csv_reader = csv.reader(csv_file, delimiter=',')\n",
    "    line_count = 0\n",
    "    for row in csv_reader:\n",
    "        if line_count != 0:\n",
    "            all_tweets.append(row[2])\n",
    "        line_count += 1"
   ]
  },
  {
   "cell_type": "code",
   "execution_count": 4,
   "id": "8defa622-4995-465f-9768-f772eed56afe",
   "metadata": {},
   "outputs": [
    {
     "data": {
      "text/plain": [
       "297"
      ]
     },
     "execution_count": 4,
     "metadata": {},
     "output_type": "execute_result"
    }
   ],
   "source": [
    "len(all_tweets)"
   ]
  },
  {
   "cell_type": "code",
   "execution_count": 5,
   "id": "e67fa8bd-73fc-4550-aade-8a48bf681d88",
   "metadata": {},
   "outputs": [
    {
     "data": {
      "text/plain": [
       "['I am thrilled to nominate Dr. @RealBenCarson as our next Secretary of the US Dept. of Housing and Urban Development… https://t.co/OJKuDFhP3r',\n",
       " 'If the press would cover me accurately &amp; honorably, I would have far less reason to \"tweet.\" Sadly, I don\\'t know if that will ever happen!',\n",
       " '#ThankYouTour2016 \\n\\n12/6- North Carolina\\nhttps://t.co/79AHq3NC0v\\n\\n12/8- Iowa\\nhttps://t.co/1IuRTVwMSx\\n\\n12/9- Michiga… https://t.co/vcQaIJ8qoB',\n",
       " 'Boeing is building a brand new 747 Air Force One for future presidents, but costs are out of control, more than $4 billion. Cancel order!',\n",
       " 'Join me tonight in Fayetteville, North Carolina at 7pm! \\n#ThankYouTour2016 \\nTickets: https://t.co/79AHq3NC0v https://t.co/KoZCE7JeG7']"
      ]
     },
     "execution_count": 5,
     "metadata": {},
     "output_type": "execute_result"
    }
   ],
   "source": [
    "all_tweets[:5]"
   ]
  },
  {
   "cell_type": "markdown",
   "id": "860198a1-66f2-4929-ac75-bfa7a088c9bd",
   "metadata": {},
   "source": [
    "### Generating all embeddings for each tweet"
   ]
  },
  {
   "cell_type": "code",
   "execution_count": 6,
   "id": "80fa883e-2a9c-4c81-9a0e-52773b8dad64",
   "metadata": {},
   "outputs": [],
   "source": [
    "embeddings = model.encode(all_tweets)"
   ]
  },
  {
   "cell_type": "markdown",
   "id": "d52ee98c-1052-4ef8-95ed-c153503e31d9",
   "metadata": {},
   "source": [
    "### Preparing maps for ID to Tweet Look-up and ID to Embedding Look-up"
   ]
  },
  {
   "cell_type": "code",
   "execution_count": 7,
   "id": "ac0f7cf6-612c-419b-9046-1d57219e449b",
   "metadata": {},
   "outputs": [],
   "source": [
    "series_id = 0\n",
    "sentence_id_mapping = {}\n",
    "id_embedding_mapping = {}\n",
    "\n",
    "for sentence, embedding in zip(all_tweets, embeddings):\n",
    "    sentence_id_mapping[series_id] = sentence\n",
    "    id_embedding_mapping[series_id] = embedding\n",
    "    series_id += 1"
   ]
  },
  {
   "cell_type": "markdown",
   "id": "6ff434ca-eb96-4a1d-a814-836c4dc6dd38",
   "metadata": {},
   "source": [
    "### Saving both maps"
   ]
  },
  {
   "cell_type": "code",
   "execution_count": 8,
   "id": "b0376938-08e4-4203-8109-e987a5723d13",
   "metadata": {},
   "outputs": [],
   "source": [
    "with open('id_embedding_mapping.pkl', 'wb') as output:\n",
    "    pickle.dump(id_embedding_mapping, output)"
   ]
  },
  {
   "cell_type": "code",
   "execution_count": 9,
   "id": "262882ac-ffac-4e11-b05e-d4234a5841f0",
   "metadata": {},
   "outputs": [],
   "source": [
    "with open('sentence_id_mapping.json', 'w') as fp:\n",
    "    json.dump(sentence_id_mapping, fp)"
   ]
  }
 ],
 "metadata": {
  "kernelspec": {
   "display_name": "Python 3.10.6 64-bit",
   "language": "python",
   "name": "python3"
  },
  "language_info": {
   "codemirror_mode": {
    "name": "ipython",
    "version": 3
   },
   "file_extension": ".py",
   "mimetype": "text/x-python",
   "name": "python",
   "nbconvert_exporter": "python",
   "pygments_lexer": "ipython3",
   "version": "3.10.6"
  },
  "vscode": {
   "interpreter": {
    "hash": "b0fa6594d8f4cbf19f97940f81e996739fb7646882a419484c72d19e05852a7e"
   }
  }
 },
 "nbformat": 4,
 "nbformat_minor": 5
}
